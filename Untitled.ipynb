{
 "cells": [
  {
   "cell_type": "code",
   "execution_count": 1,
   "id": "d2a1a045",
   "metadata": {},
   "outputs": [],
   "source": [
    "import torch\n",
    "import cv2\n",
    "import os"
   ]
  },
  {
   "cell_type": "code",
   "execution_count": 2,
   "id": "a652f126",
   "metadata": {},
   "outputs": [],
   "source": [
    "# !pip install -r https://raw.githubusercontent.com/ultralytics/yolov5/master/requirements.txt"
   ]
  },
  {
   "cell_type": "code",
   "execution_count": 3,
   "id": "38eb2652",
   "metadata": {},
   "outputs": [],
   "source": [
    "folder_path = os.path.abspath('./tif_files')\n",
    "\n",
    "def load_names(folder_path):\n",
    "    all_files = os.listdir(folder_path)\n",
    "    file_id = []\n",
    "    for i, name in enumerate(all_files):\n",
    "        test_file_name = name[:-4]\n",
    "        file_id.append(test_file_name)\n",
    "    return file_id\n",
    "\n",
    "file_id = load_names(folder_path)"
   ]
  },
  {
   "cell_type": "code",
   "execution_count": 4,
   "id": "54549125",
   "metadata": {},
   "outputs": [],
   "source": [
    "challenge_img = []\n",
    "for i, name in enumerate(file_id):\n",
    "    file_path = os.path.join(folder_path, name+'.tif')\n",
    "    img = cv2.imread(file_path, 0)\n",
    "    challenge_img.append(img)"
   ]
  },
  {
   "cell_type": "code",
   "execution_count": 6,
   "id": "10b71109",
   "metadata": {},
   "outputs": [
    {
     "name": "stderr",
     "output_type": "stream",
     "text": [
      "Using cache found in C:\\Users\\HZU/.cache\\torch\\hub\\ultralytics_yolov5_master\n",
      "YOLOv5  2021-10-20 torch 1.9.0+cpu CPU\n",
      "\n",
      "Fusing layers... \n",
      "Model Summary: 213 layers, 7015519 parameters, 0 gradients, 15.8 GFLOPs\n",
      "Adding AutoShape... \n"
     ]
    }
   ],
   "source": [
    "model = torch.hub.load('ultralytics/yolov5', 'custom', path='best.pt')"
   ]
  },
  {
   "cell_type": "code",
   "execution_count": null,
   "id": "910e8130",
   "metadata": {},
   "outputs": [],
   "source": [
    "predictions = []\n",
    "for i in range(len(challenge_img)):\n",
    "    results = model(challenge_img[i])\n",
    "    "
   ]
  },
  {
   "cell_type": "code",
   "execution_count": null,
   "id": "a4ba77cb",
   "metadata": {},
   "outputs": [],
   "source": []
  },
  {
   "cell_type": "code",
   "execution_count": 30,
   "id": "00ee5271",
   "metadata": {},
   "outputs": [],
   "source": [
    " results = model(challenge_img[0])"
   ]
  },
  {
   "cell_type": "code",
   "execution_count": 31,
   "id": "b2e3a5d7",
   "metadata": {},
   "outputs": [
    {
     "name": "stderr",
     "output_type": "stream",
     "text": [
      "image 1/1: 1575x1200 1 signatures\n",
      "Speed: 22.0ms pre-process, 139.0ms inference, 0.0ms NMS per image at shape (1, 3, 640, 512)\n"
     ]
    }
   ],
   "source": [
    "results.print()"
   ]
  },
  {
   "cell_type": "code",
   "execution_count": 32,
   "id": "89e07cac",
   "metadata": {},
   "outputs": [],
   "source": [
    "results.show()"
   ]
  },
  {
   "cell_type": "code",
   "execution_count": null,
   "id": "95a01bdb",
   "metadata": {},
   "outputs": [],
   "source": []
  },
  {
   "cell_type": "code",
   "execution_count": 33,
   "id": "d1a4bad4",
   "metadata": {},
   "outputs": [
    {
     "data": {
      "text/plain": [
       "<models.common.Detections at 0x20cd02f7610>"
      ]
     },
     "execution_count": 33,
     "metadata": {},
     "output_type": "execute_result"
    }
   ],
   "source": [
    "results"
   ]
  },
  {
   "cell_type": "code",
   "execution_count": 34,
   "id": "69d07f1d",
   "metadata": {},
   "outputs": [
    {
     "data": {
      "text/html": [
       "<div>\n",
       "<style scoped>\n",
       "    .dataframe tbody tr th:only-of-type {\n",
       "        vertical-align: middle;\n",
       "    }\n",
       "\n",
       "    .dataframe tbody tr th {\n",
       "        vertical-align: top;\n",
       "    }\n",
       "\n",
       "    .dataframe thead th {\n",
       "        text-align: right;\n",
       "    }\n",
       "</style>\n",
       "<table border=\"1\" class=\"dataframe\">\n",
       "  <thead>\n",
       "    <tr style=\"text-align: right;\">\n",
       "      <th></th>\n",
       "      <th>xmin</th>\n",
       "      <th>ymin</th>\n",
       "      <th>xmax</th>\n",
       "      <th>ymax</th>\n",
       "      <th>confidence</th>\n",
       "      <th>class</th>\n",
       "      <th>name</th>\n",
       "    </tr>\n",
       "  </thead>\n",
       "  <tbody>\n",
       "    <tr>\n",
       "      <th>0</th>\n",
       "      <td>611.826599</td>\n",
       "      <td>768.278198</td>\n",
       "      <td>978.290222</td>\n",
       "      <td>850.802795</td>\n",
       "      <td>0.764464</td>\n",
       "      <td>0</td>\n",
       "      <td>signatures</td>\n",
       "    </tr>\n",
       "  </tbody>\n",
       "</table>\n",
       "</div>"
      ],
      "text/plain": [
       "         xmin        ymin        xmax        ymax  confidence  class  \\\n",
       "0  611.826599  768.278198  978.290222  850.802795    0.764464      0   \n",
       "\n",
       "         name  \n",
       "0  signatures  "
      ]
     },
     "execution_count": 34,
     "metadata": {},
     "output_type": "execute_result"
    }
   ],
   "source": [
    "results.pandas().xyxy[0]"
   ]
  },
  {
   "cell_type": "code",
   "execution_count": 35,
   "id": "f1c456ba",
   "metadata": {},
   "outputs": [
    {
     "data": {
      "text/plain": [
       "[[611.8265991210938,\n",
       "  768.2781982421875,\n",
       "  978.2902221679688,\n",
       "  850.8027954101562,\n",
       "  0.7644636631011963,\n",
       "  0,\n",
       "  'signatures']]"
      ]
     },
     "execution_count": 35,
     "metadata": {},
     "output_type": "execute_result"
    }
   ],
   "source": [
    "results.pandas().xyxy[0].values.tolist()"
   ]
  },
  {
   "cell_type": "code",
   "execution_count": null,
   "id": "94461a97",
   "metadata": {},
   "outputs": [],
   "source": []
  }
 ],
 "metadata": {
  "kernelspec": {
   "display_name": "Python 3 (ipykernel)",
   "language": "python",
   "name": "python3"
  },
  "language_info": {
   "codemirror_mode": {
    "name": "ipython",
    "version": 3
   },
   "file_extension": ".py",
   "mimetype": "text/x-python",
   "name": "python",
   "nbconvert_exporter": "python",
   "pygments_lexer": "ipython3",
   "version": "3.8.10"
  }
 },
 "nbformat": 4,
 "nbformat_minor": 5
}
