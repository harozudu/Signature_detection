{
 "cells": [
  {
   "cell_type": "code",
   "execution_count": null,
   "id": "d2a1a045",
   "metadata": {},
   "outputs": [],
   "source": [
    "import torch\n",
    "import cv2\n",
    "import os\n",
    "import pandas as pd\n",
    "import numpy as np"
   ]
  },
  {
   "cell_type": "code",
   "execution_count": null,
   "id": "a652f126",
   "metadata": {},
   "outputs": [],
   "source": [
    "# !pip install -r https://raw.githubusercontent.com/ultralytics/yolov5/master/requirements.txt"
   ]
  },
  {
   "cell_type": "code",
   "execution_count": null,
   "id": "38eb2652",
   "metadata": {},
   "outputs": [],
   "source": [
    "folder_path = os.path.abspath('./tif_files')\n",
    "\n",
    "def load_names(folder_path):\n",
    "    all_files = os.listdir(folder_path)\n",
    "    file_id = []\n",
    "    for i, name in enumerate(all_files):\n",
    "        test_file_name = name[:-4]\n",
    "        file_id.append(test_file_name)\n",
    "    return file_id\n",
    "\n",
    "file_id = load_names(folder_path)"
   ]
  },
  {
   "cell_type": "code",
   "execution_count": null,
   "id": "54549125",
   "metadata": {},
   "outputs": [],
   "source": [
    "challenge_img = []\n",
    "for i, name in enumerate(file_id):\n",
    "    file_path = os.path.join(folder_path, name+'.tif')\n",
    "    img = cv2.imread(file_path, 0)\n",
    "    challenge_img.append(img)\n",
    "    print(i)"
   ]
  },
  {
   "cell_type": "code",
   "execution_count": null,
   "id": "10b71109",
   "metadata": {
    "scrolled": true
   },
   "outputs": [],
   "source": [
    "model = torch.hub.load('ultralytics/yolov5', 'custom', path='best.pt')"
   ]
  },
  {
   "cell_type": "code",
   "execution_count": null,
   "id": "efb8d0a3",
   "metadata": {},
   "outputs": [],
   "source": [
    "all_data = pd.DataFrame()"
   ]
  },
  {
   "cell_type": "code",
   "execution_count": null,
   "id": "f6d1b76f",
   "metadata": {},
   "outputs": [],
   "source": [
    "results = model(challenge_img[220])"
   ]
  },
  {
   "cell_type": "code",
   "execution_count": null,
   "id": "749454bc",
   "metadata": {},
   "outputs": [],
   "source": [
    "results.show()"
   ]
  },
  {
   "cell_type": "code",
   "execution_count": null,
   "id": "022c4326",
   "metadata": {},
   "outputs": [],
   "source": [
    "for i in range(len(challenge_img)):\n",
    "\n",
    "    results = model(challenge_img[i])\n",
    "\n",
    "    if len(results.pandas().xyxy[0]) > 0:\n",
    "        temp_all_data = pd.DataFrame()\n",
    "        temp_all_data = results.pandas().xyxy[0]\n",
    "        temp_all_data['Id'] = file_id[i]\n",
    "    #     temp_all_data['Id'] = file_id[i]\n",
    "        all_data = all_data.append(temp_all_data, ignore_index=True)\n",
    "    else:\n",
    "        empty_data = pd.DataFrame([[0,0,0,0,0,100]],columns = ['xmin', 'ymin', 'xmax', 'ymax', 'confidence', 'class'])\n",
    "        empty_data['Id'] = file_id[i]\n",
    "        all_data = all_data.append(empty_data, ignore_index=True)\n",
    "\n",
    "    print(i)    "
   ]
  },
  {
   "cell_type": "code",
   "execution_count": null,
   "id": "f2cb3ab2",
   "metadata": {},
   "outputs": [],
   "source": [
    "all_data"
   ]
  },
  {
   "cell_type": "code",
   "execution_count": null,
   "id": "4b98076f",
   "metadata": {},
   "outputs": [],
   "source": [
    "all_data.to_csv('all_class_only_img.csv', index=False)"
   ]
  },
  {
   "cell_type": "code",
   "execution_count": null,
   "id": "908156af",
   "metadata": {},
   "outputs": [],
   "source": [
    "results = all_data.drop(columns=['xmin', 'ymin', 'xmax', 'ymax', 'confidence'])"
   ]
  },
  {
   "cell_type": "code",
   "execution_count": null,
   "id": "6bf269cc",
   "metadata": {},
   "outputs": [],
   "source": [
    "results"
   ]
  },
  {
   "cell_type": "code",
   "execution_count": null,
   "id": "a354d963",
   "metadata": {},
   "outputs": [],
   "source": [
    "results['Expected'] = np.where(results['class']==0, 1, 0)"
   ]
  },
  {
   "cell_type": "code",
   "execution_count": null,
   "id": "9972c1b8",
   "metadata": {},
   "outputs": [],
   "source": [
    "results = results.drop(columns = ['class', 'name'])"
   ]
  },
  {
   "cell_type": "code",
   "execution_count": null,
   "id": "2267eafd",
   "metadata": {},
   "outputs": [],
   "source": [
    "results = results.drop_duplicates(subset=['Id'])"
   ]
  },
  {
   "cell_type": "code",
   "execution_count": null,
   "id": "0ecdd52b",
   "metadata": {},
   "outputs": [],
   "source": [
    "results.to_csv('prediction.csv', index=False)"
   ]
  }
 ],
 "metadata": {
  "kernelspec": {
   "display_name": "Python 3 (ipykernel)",
   "language": "python",
   "name": "python3"
  },
  "language_info": {
   "codemirror_mode": {
    "name": "ipython",
    "version": 3
   },
   "file_extension": ".py",
   "mimetype": "text/x-python",
   "name": "python",
   "nbconvert_exporter": "python",
   "pygments_lexer": "ipython3",
   "version": "3.8.10"
  }
 },
 "nbformat": 4,
 "nbformat_minor": 5
}
